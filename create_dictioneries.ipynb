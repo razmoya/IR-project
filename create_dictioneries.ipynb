{
  "cells": [
    {
      "cell_type": "markdown",
      "id": "a00e032c",
      "metadata": {
        "id": "a00e032c"
      },
      "source": [
        "***Important*** DO NOT CLEAR THE OUTPUT OF THIS NOTEBOOK AFTER EXECUTION!!!"
      ]
    },
    {
      "cell_type": "code",
      "execution_count": null,
      "id": "5ac36d3a",
      "metadata": {
        "id": "5ac36d3a",
        "nbgrader": {
          "grade": false,
          "grade_id": "cell-Worker_Count",
          "locked": true,
          "schema_version": 3,
          "solution": false,
          "task": false
        },
        "outputId": "cf88b954-f39a-412a-d87e-660833e735b6"
      },
      "outputs": [
        {
          "name": "stdout",
          "output_type": "stream",
          "text": [
            "NAME          PLATFORM  WORKER_COUNT  PREEMPTIBLE_WORKER_COUNT  STATUS   ZONE           SCHEDULED_DELETE\r\n",
            "cluster-febe  GCE       4                                       RUNNING  us-central1-a\r\n"
          ]
        }
      ],
      "source": [
        "# if the following command generates an error, you probably didn't enable \n",
        "# the cluster security option \"Allow API access to all Google Cloud services\"\n",
        "# under Manage Security → Project Access when setting up the cluster\n",
        "!gcloud dataproc clusters list --region us-central1"
      ]
    },
    {
      "cell_type": "markdown",
      "id": "51cf86c5",
      "metadata": {
        "id": "51cf86c5"
      },
      "source": [
        "# Imports & Setup"
      ]
    },
    {
      "cell_type": "code",
      "execution_count": null,
      "id": "bf199e6a",
      "metadata": {
        "id": "bf199e6a",
        "nbgrader": {
          "grade": false,
          "grade_id": "cell-Setup",
          "locked": true,
          "schema_version": 3,
          "solution": false,
          "task": false
        },
        "outputId": "fc0e315d-21e9-411d-d69c-5b97e4e5d629"
      },
      "outputs": [
        {
          "name": "stdout",
          "output_type": "stream",
          "text": [
            "\u001b[33mWARNING: Running pip as the 'root' user can result in broken permissions and conflicting behaviour with the system package manager. It is recommended to use a virtual environment instead: https://pip.pypa.io/warnings/venv\u001b[0m\u001b[33m\n",
            "\u001b[0m\u001b[33mWARNING: Running pip as the 'root' user can result in broken permissions and conflicting behaviour with the system package manager. It is recommended to use a virtual environment instead: https://pip.pypa.io/warnings/venv\u001b[0m\u001b[33m\n",
            "\u001b[0mRequirement already satisfied: nltk==3.7 in /opt/conda/miniconda3/lib/python3.8/site-packages (3.7)\n",
            "Requirement already satisfied: regex>=2021.8.3 in /opt/conda/miniconda3/lib/python3.8/site-packages (from nltk==3.7) (2022.10.31)\n",
            "Requirement already satisfied: click in /opt/conda/miniconda3/lib/python3.8/site-packages (from nltk==3.7) (7.1.2)\n",
            "Requirement already satisfied: joblib in /opt/conda/miniconda3/lib/python3.8/site-packages (from nltk==3.7) (1.2.0)\n",
            "Requirement already satisfied: tqdm in /opt/conda/miniconda3/lib/python3.8/site-packages (from nltk==3.7) (4.64.1)\n",
            "\u001b[33mWARNING: Running pip as the 'root' user can result in broken permissions and conflicting behaviour with the system package manager. It is recommended to use a virtual environment instead: https://pip.pypa.io/warnings/venv\u001b[0m\u001b[33m\n",
            "\u001b[0m"
          ]
        }
      ],
      "source": [
        "!pip install -q google-cloud-storage==1.43.0\n",
        "!pip install -q graphframes\n",
        "!pip install nltk==3.7"
      ]
    },
    {
      "cell_type": "code",
      "execution_count": null,
      "id": "d8f56ecd",
      "metadata": {
        "id": "d8f56ecd",
        "nbgrader": {
          "grade": false,
          "grade_id": "cell-Imports",
          "locked": true,
          "schema_version": 3,
          "solution": false,
          "task": false
        },
        "outputId": "a24aa24b-aa75-4823-83ca-1d7deef0f0de"
      },
      "outputs": [
        {
          "name": "stderr",
          "output_type": "stream",
          "text": [
            "[nltk_data] Downloading package stopwords to /root/nltk_data...\n",
            "[nltk_data]   Package stopwords is already up-to-date!\n"
          ]
        },
        {
          "data": {
            "text/plain": [
              "True"
            ]
          },
          "execution_count": 3,
          "metadata": {},
          "output_type": "execute_result"
        }
      ],
      "source": [
        "import pyspark\n",
        "import sys\n",
        "from collections import Counter, OrderedDict, defaultdict\n",
        "import itertools\n",
        "from itertools import islice, count, groupby\n",
        "import pandas as pd\n",
        "import os\n",
        "import re\n",
        "from operator import itemgetter\n",
        "import nltk\n",
        "from nltk.stem.porter import *\n",
        "from nltk.corpus import stopwords\n",
        "from time import time\n",
        "from pathlib import Path\n",
        "import pickle\n",
        "import pandas as pd\n",
        "from google.cloud import storage\n",
        "\n",
        "import hashlib\n",
        "def _hash(s):\n",
        "    return hashlib.blake2b(bytes(s, encoding='utf8'), digest_size=5).hexdigest()\n",
        "\n",
        "nltk.download('stopwords')"
      ]
    },
    {
      "cell_type": "code",
      "execution_count": null,
      "id": "38a897f2",
      "metadata": {
        "id": "38a897f2",
        "nbgrader": {
          "grade": false,
          "grade_id": "cell-jar",
          "locked": true,
          "schema_version": 3,
          "solution": false,
          "task": false
        },
        "outputId": "8f93a7ec-71e0-49c1-fc81-9af385849a90"
      },
      "outputs": [
        {
          "name": "stdout",
          "output_type": "stream",
          "text": [
            "-rw-r--r-- 1 root root 247882 Jan 13 11:21 /usr/lib/spark/jars/graphframes-0.8.2-spark3.1-s_2.12.jar\r\n"
          ]
        }
      ],
      "source": [
        "# if nothing prints here you forgot to include the initialization script when starting the cluster\n",
        "!ls -l /usr/lib/spark/jars/graph*"
      ]
    },
    {
      "cell_type": "code",
      "execution_count": null,
      "id": "47900073",
      "metadata": {
        "id": "47900073",
        "nbgrader": {
          "grade": false,
          "grade_id": "cell-pyspark-import",
          "locked": true,
          "schema_version": 3,
          "solution": false,
          "task": false
        }
      },
      "outputs": [],
      "source": [
        "from pyspark.sql import *\n",
        "from pyspark.sql.functions import *\n",
        "from pyspark import SparkContext, SparkConf, SparkFiles\n",
        "from pyspark.sql import SQLContext\n",
        "from graphframes import *"
      ]
    },
    {
      "cell_type": "code",
      "execution_count": null,
      "id": "72bed56b",
      "metadata": {
        "id": "72bed56b",
        "nbgrader": {
          "grade": false,
          "grade_id": "cell-spark-version",
          "locked": true,
          "schema_version": 3,
          "solution": false,
          "task": false
        },
        "outputId": "07b4e22b-a252-42fb-fe46-d9050e4e7ca8",
        "scrolled": true
      },
      "outputs": [
        {
          "data": {
            "text/html": [
              "\n",
              "            <div>\n",
              "                <p><b>SparkSession - hive</b></p>\n",
              "                \n",
              "        <div>\n",
              "            <p><b>SparkContext</b></p>\n",
              "\n",
              "            <p><a href=\"http://cluster-febe-m.us-central1-a.c.assigment3-370719.internal:35685\">Spark UI</a></p>\n",
              "\n",
              "            <dl>\n",
              "              <dt>Version</dt>\n",
              "                <dd><code>v3.1.3</code></dd>\n",
              "              <dt>Master</dt>\n",
              "                <dd><code>yarn</code></dd>\n",
              "              <dt>AppName</dt>\n",
              "                <dd><code>PySparkShell</code></dd>\n",
              "            </dl>\n",
              "        </div>\n",
              "        \n",
              "            </div>\n",
              "        "
            ],
            "text/plain": [
              "<pyspark.sql.session.SparkSession at 0x7fd29529e520>"
            ]
          },
          "execution_count": 6,
          "metadata": {},
          "output_type": "execute_result"
        }
      ],
      "source": [
        "spark"
      ]
    },
    {
      "cell_type": "code",
      "execution_count": null,
      "id": "980e62a5",
      "metadata": {
        "id": "980e62a5",
        "nbgrader": {
          "grade": false,
          "grade_id": "cell-bucket_name",
          "locked": false,
          "schema_version": 3,
          "solution": true,
          "task": false
        }
      },
      "outputs": [],
      "source": [
        "# Put your bucket name below and make sure you can access it without an error\n",
        "bucket_name = 'razm_bucket2' \n",
        "full_path = f\"gs://{bucket_name}/\"\n",
        "paths=[]\n",
        "\n",
        "client = storage.Client()\n",
        "blobs = client.list_blobs(bucket_name)\n",
        "for b in blobs:\n",
        "    if b.name.endswith('.parquet'):\n",
        "        paths.append(full_path+b.name)"
      ]
    },
    {
      "cell_type": "code",
      "execution_count": null,
      "id": "0d06e336",
      "metadata": {
        "id": "0d06e336",
        "outputId": "37e13a9f-7287-4250-e32d-84a440570efa"
      },
      "outputs": [
        {
          "name": "stderr",
          "output_type": "stream",
          "text": [
            "                                                                                \r"
          ]
        }
      ],
      "source": [
        "parquetFile = spark.read.parquet(*paths)"
      ]
    },
    {
      "cell_type": "code",
      "execution_count": null,
      "id": "0d6c00a6",
      "metadata": {
        "id": "0d6c00a6"
      },
      "outputs": [],
      "source": [
        "doc_text_pairs = parquetFile.select(\"id\",\"text\").rdd\n"
      ]
    },
    {
      "cell_type": "code",
      "execution_count": null,
      "id": "13b5d189",
      "metadata": {
        "id": "13b5d189"
      },
      "outputs": [],
      "source": [
        "english_stopwords = frozenset(stopwords.words('english'))\n",
        "corpus_stopwords = ['category', 'references', 'also', 'links', 'extenal', 'see', 'thumb']\n",
        "RE_WORD = re.compile(r\"\"\"[\\#\\@\\w](['\\-]?\\w){2,24}\"\"\", re.UNICODE)\n",
        "all_stopwords = english_stopwords.union(corpus_stopwords)\n",
        "\n",
        "def tokenize(text):\n",
        "    \"\"\"\n",
        "    this method creates a list of tokens from a given text + removes stop words\n",
        "    :param text: text\n",
        "    :return: list of tokens\n",
        "    \"\"\"\n",
        "\n",
        "    tokens = [token.group() for token in RE_WORD.finditer(text.lower())]\n",
        "    new_tokens = []\n",
        "    for token in tokens:\n",
        "        if token in all_stopwords:\n",
        "            continue\n",
        "        else:\n",
        "            new_tokens.append(token)\n",
        "    return new_tokens"
      ]
    },
    {
      "cell_type": "code",
      "execution_count": null,
      "id": "c75552ff",
      "metadata": {
        "id": "c75552ff"
      },
      "outputs": [],
      "source": [
        "def word_count(id,text):\n",
        "  ''' Count the frequency of each word in `text` (tf) that is not included in \n",
        "  `all_stopwords` and return entries that will go into our posting lists. \n",
        "  Parameters:\n",
        "  -----------\n",
        "    text: str\n",
        "      Text of one document\n",
        "    id: int\n",
        "      Document id\n",
        "  Returns:\n",
        "  --------\n",
        "    List of tuples\n",
        "      A list of (token, (doc_id, tf)) pairs \n",
        "      for example: [(\"Anarchism\", (12, 5)), ...]\n",
        "  '''\n",
        "  tokens = [token.group() for token in RE_WORD.finditer(text.lower())]\n",
        "\n",
        "  Dict={}\n",
        "  lst=[]\n",
        "  to_return={}\n",
        "  \n",
        "  # YOUR CODE HERE\n",
        "  Dict=Counter(tokens)\n",
        "  for item in Dict:\n",
        "    if item in all_stopwords:\n",
        "      continue\n",
        "    else:\n",
        "      x=(id,Dict[item])\n",
        "      to_return[item]=x\n",
        "\n",
        "  lst=list(to_return.items())\n",
        "  return lst;\n"
      ]
    },
    {
      "cell_type": "code",
      "execution_count": null,
      "id": "69e516a8",
      "metadata": {
        "id": "69e516a8"
      },
      "outputs": [],
      "source": [
        "def reduce_word_counts(unsorted_pl):\n",
        "  ''' Returns a sorted posting list by wiki_id.\n",
        "  Parameters:\n",
        "  -----------\n",
        "    unsorted_pl: list of tuples\n",
        "      A list of (wiki_id, tf) tuples \n",
        "  Returns:\n",
        "  --------\n",
        "    list of tuples\n",
        "      A sorted posting list.\n",
        "  '''\n",
        "  # YOUR CODE HERE\n",
        "  sorted_list = sorted(unsorted_pl, key=lambda tup: tup[0])\n",
        "  return sorted_list"
      ]
    },
    {
      "cell_type": "code",
      "execution_count": null,
      "id": "37ff01b0",
      "metadata": {
        "id": "37ff01b0"
      },
      "outputs": [],
      "source": [
        "import math\n",
        "def build_norm_doc(tok_text):\n",
        "    temp_dict = {}\n",
        "    for term in list(tok_text):\n",
        "        if term not in temp_dict:\n",
        "            temp_dict[term] = 0\n",
        "        temp_dict[term] +=1\n",
        "    sum = 0\n",
        "    for term in temp_dict:\n",
        "        sum += temp_dict[term]**2\n",
        "    if sum == 0:\n",
        "        return sum\n",
        "    return 1/math.sqrt(sum)"
      ]
    },
    {
      "cell_type": "code",
      "source": [
        "client = storage.Client()\n",
        "bucket = client.bucket(bucket_name)"
      ],
      "metadata": {
        "id": "vOiCK_Nso3At"
      },
      "id": "vOiCK_Nso3At",
      "execution_count": null,
      "outputs": []
    },
    {
      "cell_type": "code",
      "execution_count": null,
      "id": "3cb83a56",
      "metadata": {
        "id": "3cb83a56"
      },
      "outputs": [],
      "source": [
        "#write norm dict to bucket\n",
        "doc_text_pairs_new = doc_text_pairs.mapValues(tokenize).mapValues(build_norm_doc)\n",
        "norm_dict= doc_text_pairs_new.collectAsMap()\n",
        "x=\"norm_dict\"\n",
        "with open(f\"{x}.pickle\", \"wb\") as f:\n",
        "    pickle.dump(norm_dict, f)\n",
        "blob_title_dict = bucket.blob(f\"postings_gcp/{x}.pickle\")\n",
        "blob_title_dict.upload_from_filename(f\"{x}.pickle\")"
      ]
    },
    {
      "cell_type": "code",
      "execution_count": null,
      "id": "2c688f58",
      "metadata": {
        "id": "2c688f58"
      },
      "outputs": [],
      "source": [
        "# write title dict to bucket: \n",
        "title_dict=dict(doc_title_pairs.collectAsMap())\n",
        "x=\"title_dict\"\n",
        "with open(f\"{x}.pickle\", \"wb\") as f:\n",
        "    pickle.dump(title_dict, f)\n",
        "blob_title_dict = bucket.blob(f\"postings_gcp/{x}.pickle\")\n",
        "blob_title_dict.upload_from_filename(f\"{x}.pickle\")\n"
      ]
    },
    {
      "cell_type": "code",
      "execution_count": null,
      "id": "b76c256b",
      "metadata": {
        "id": "b76c256b"
      },
      "outputs": [],
      "source": [
        "# write DL dict to bucket:\n",
        "DL= doc_text_pairs.map(lambda x: (x[0], len(tokenize(x[1])))).collectAsMap()\n",
        "x=\"DL\"\n",
        "with open(f\"{x}.pickle\", \"wb\") as f:\n",
        "    pickle.dump(DL, f)\n",
        "blob_DL_dict = bucket.blob(f\"postings_gcp/{x}.pickle\")\n",
        "blob_DL_dict.upload_from_filename(f\"{x}.pickle\")"
      ]
    },
    {
      "cell_type": "code",
      "execution_count": null,
      "id": "d04ab4b0",
      "metadata": {
        "id": "d04ab4b0"
      },
      "outputs": [],
      "source": [
        "def f_sum(x):\n",
        "  c=0\n",
        "  for i in x:\n",
        "    c += i\n",
        "  return c\n",
        "\n",
        "def calculate_term_total(postings):\n",
        "  return postings.mapValues(lambda x: [y[1] for y in x]).mapValues(f_sum)"
      ]
    },
    {
      "cell_type": "code",
      "execution_count": null,
      "id": "9162256e",
      "metadata": {
        "id": "9162256e"
      },
      "outputs": [],
      "source": [
        "# write term total dict to bucket:\n",
        "word_counts = doc_text_pairs.flatMap(lambda x: word_count(x[0], x[1]))\n",
        "postings = word_counts.groupByKey().mapValues(reduce_word_counts)\n",
        "term_total = calculate_term_total(postings).groupByKey().mapValues(f_sum).collectAsMap()\n",
        "x=\"term_total\"\n",
        "with open(f\"{x}.pickle\", \"wb\") as f:\n",
        "    pickle.dump(term_total, f)\n",
        "blob_term_total_dict = bucket.blob(f\"postings_gcp/{x}.pickle\")\n",
        "blob_term_total_dict.upload_from_filename(f\"{x}.pickle\")"
      ]
    }
  ],
  "metadata": {
    "celltoolbar": "Create Assignment",
    "colab": {
      "provenance": []
    },
    "kernelspec": {
      "display_name": "PySpark",
      "language": "python",
      "name": "pyspark"
    },
    "language_info": {
      "codemirror_mode": {
        "name": "ipython",
        "version": 3
      },
      "file_extension": ".py",
      "mimetype": "text/x-python",
      "name": "python",
      "nbconvert_exporter": "python",
      "pygments_lexer": "ipython3",
      "version": "3.8.15"
    }
  },
  "nbformat": 4,
  "nbformat_minor": 5
}